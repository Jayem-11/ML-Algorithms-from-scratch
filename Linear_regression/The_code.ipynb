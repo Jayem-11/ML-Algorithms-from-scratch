{
 "cells": [
  {
   "cell_type": "code",
   "execution_count": 207,
   "id": "e3bdea1f",
   "metadata": {},
   "outputs": [],
   "source": [
    "import numpy as np \n",
    "import pandas as pd \n",
    "import matplotlib.pyplot as plt\n"
   ]
  },
  {
   "cell_type": "markdown",
   "id": "981d3dc6",
   "metadata": {},
   "source": [
    "## Data"
   ]
  },
  {
   "cell_type": "code",
   "execution_count": 249,
   "id": "5a1195e2",
   "metadata": {},
   "outputs": [],
   "source": [
    "data = pd.read_csv(\"USA_Housing.csv\")"
   ]
  },
  {
   "cell_type": "code",
   "execution_count": 250,
   "id": "fc21cef9",
   "metadata": {},
   "outputs": [],
   "source": [
    "data.drop('Address',axis= 1, inplace =True)"
   ]
  },
  {
   "cell_type": "code",
   "execution_count": 251,
   "id": "6d00108d",
   "metadata": {},
   "outputs": [
    {
     "data": {
      "text/html": [
       "<div>\n",
       "<style scoped>\n",
       "    .dataframe tbody tr th:only-of-type {\n",
       "        vertical-align: middle;\n",
       "    }\n",
       "\n",
       "    .dataframe tbody tr th {\n",
       "        vertical-align: top;\n",
       "    }\n",
       "\n",
       "    .dataframe thead th {\n",
       "        text-align: right;\n",
       "    }\n",
       "</style>\n",
       "<table border=\"1\" class=\"dataframe\">\n",
       "  <thead>\n",
       "    <tr style=\"text-align: right;\">\n",
       "      <th></th>\n",
       "      <th>Avg. Area Income</th>\n",
       "      <th>Avg. Area House Age</th>\n",
       "      <th>Avg. Area Number of Rooms</th>\n",
       "      <th>Avg. Area Number of Bedrooms</th>\n",
       "      <th>Area Population</th>\n",
       "      <th>Price</th>\n",
       "    </tr>\n",
       "  </thead>\n",
       "  <tbody>\n",
       "    <tr>\n",
       "      <th>0</th>\n",
       "      <td>79545.458574</td>\n",
       "      <td>5.682861</td>\n",
       "      <td>7.009188</td>\n",
       "      <td>4.09</td>\n",
       "      <td>23086.800503</td>\n",
       "      <td>1.059034e+06</td>\n",
       "    </tr>\n",
       "    <tr>\n",
       "      <th>1</th>\n",
       "      <td>79248.642455</td>\n",
       "      <td>6.002900</td>\n",
       "      <td>6.730821</td>\n",
       "      <td>3.09</td>\n",
       "      <td>40173.072174</td>\n",
       "      <td>1.505891e+06</td>\n",
       "    </tr>\n",
       "    <tr>\n",
       "      <th>2</th>\n",
       "      <td>61287.067179</td>\n",
       "      <td>5.865890</td>\n",
       "      <td>8.512727</td>\n",
       "      <td>5.13</td>\n",
       "      <td>36882.159400</td>\n",
       "      <td>1.058988e+06</td>\n",
       "    </tr>\n",
       "    <tr>\n",
       "      <th>3</th>\n",
       "      <td>63345.240046</td>\n",
       "      <td>7.188236</td>\n",
       "      <td>5.586729</td>\n",
       "      <td>3.26</td>\n",
       "      <td>34310.242831</td>\n",
       "      <td>1.260617e+06</td>\n",
       "    </tr>\n",
       "    <tr>\n",
       "      <th>4</th>\n",
       "      <td>59982.197226</td>\n",
       "      <td>5.040555</td>\n",
       "      <td>7.839388</td>\n",
       "      <td>4.23</td>\n",
       "      <td>26354.109472</td>\n",
       "      <td>6.309435e+05</td>\n",
       "    </tr>\n",
       "  </tbody>\n",
       "</table>\n",
       "</div>"
      ],
      "text/plain": [
       "   Avg. Area Income  Avg. Area House Age  Avg. Area Number of Rooms  \\\n",
       "0      79545.458574             5.682861                   7.009188   \n",
       "1      79248.642455             6.002900                   6.730821   \n",
       "2      61287.067179             5.865890                   8.512727   \n",
       "3      63345.240046             7.188236                   5.586729   \n",
       "4      59982.197226             5.040555                   7.839388   \n",
       "\n",
       "   Avg. Area Number of Bedrooms  Area Population         Price  \n",
       "0                          4.09     23086.800503  1.059034e+06  \n",
       "1                          3.09     40173.072174  1.505891e+06  \n",
       "2                          5.13     36882.159400  1.058988e+06  \n",
       "3                          3.26     34310.242831  1.260617e+06  \n",
       "4                          4.23     26354.109472  6.309435e+05  "
      ]
     },
     "execution_count": 251,
     "metadata": {},
     "output_type": "execute_result"
    }
   ],
   "source": [
    "data.head()"
   ]
  },
  {
   "cell_type": "markdown",
   "id": "aabcc588",
   "metadata": {},
   "source": [
    "## Preprocessing"
   ]
  },
  {
   "cell_type": "code",
   "execution_count": 252,
   "id": "53c6afa0",
   "metadata": {},
   "outputs": [],
   "source": [
    "X = data[['Avg. Area Income', 'Avg. Area House Age', 'Avg. Area Number of Rooms',\n",
    "       'Avg. Area Number of Bedrooms', 'Area Population']]\n",
    "y = data['Price']\n"
   ]
  },
  {
   "cell_type": "markdown",
   "id": "f916a4cb",
   "metadata": {},
   "source": [
    "###  Standardization\n",
    "\n",
    "$$ y = {(x - mean) \\over standard\\; deviation} $$"
   ]
  },
  {
   "cell_type": "code",
   "execution_count": 253,
   "id": "1a58ae6c",
   "metadata": {},
   "outputs": [],
   "source": [
    "df = pd.DataFrame()\n",
    "\n",
    "for i in range(0,5):\n",
    "    col = X.columns[i]\n",
    "    mean = X[col].mean()\n",
    "    std =X[col].std()\n",
    "     \n",
    "    def standard(x):\n",
    "        return (x-mean)/std\n",
    "    \n",
    "    df[col] = X[col].apply(standard)\n"
   ]
  },
  {
   "cell_type": "markdown",
   "id": "34ba1a59",
   "metadata": {},
   "source": [
    "##  Model"
   ]
  },
  {
   "cell_type": "markdown",
   "id": "ad0b38b5",
   "metadata": {},
   "source": [
    "### Hypothesis"
   ]
  },
  {
   "cell_type": "markdown",
   "id": "0754c988",
   "metadata": {},
   "source": [
    "Since we have 5 features:\n",
    "$$h_θ (x)=\\theta_0+\\theta_1 x_1+\\theta_2 x_2 + \\theta_3 x_3 +\\theta_4 x_4 + \\theta_5 x_5$$\n",
    "\n",
    "We can start with $0$ as the initial value of $\\theta$"
   ]
  },
  {
   "cell_type": "code",
   "execution_count": 254,
   "id": "c5c3029f",
   "metadata": {},
   "outputs": [],
   "source": [
    "x = np.array(df)\n",
    "y = np.array(y)"
   ]
  },
  {
   "cell_type": "code",
   "execution_count": 255,
   "id": "db1983c3",
   "metadata": {},
   "outputs": [],
   "source": [
    "x = np.hstack((np.ones((x.shape[0],1)), x))\n",
    "y = np.reshape(y, (5000,1))"
   ]
  },
  {
   "cell_type": "code",
   "execution_count": 256,
   "id": "8afb17ea",
   "metadata": {},
   "outputs": [],
   "source": [
    "theta = np.zeros((x.shape[1], 1))"
   ]
  },
  {
   "cell_type": "code",
   "execution_count": 257,
   "id": "b7cb2b96",
   "metadata": {},
   "outputs": [],
   "source": [
    "def hypo(x, theta):\n",
    "    return np.matmul(x, theta)"
   ]
  },
  {
   "cell_type": "markdown",
   "id": "34fa48c0",
   "metadata": {},
   "source": [
    "### Loss"
   ]
  },
  {
   "cell_type": "markdown",
   "id": "b8805ed8",
   "metadata": {},
   "source": [
    "- Loss function\n",
    "$$J(θ) = {1 \\over 2} \\sum\\limits_{i=1}^{n}(h_θ(x)^{(i)} - y^{(i)})^2 $$\n",
    "\n",
    "- cost function\n",
    "$${1 \\over 2n} \\sum\\limits_{i=1}^{n}(h_θ(x)^{(i)} - y^{(i)})^2 $$\n",
    "where n is the number of sampled data\n"
   ]
  },
  {
   "cell_type": "code",
   "execution_count": 258,
   "id": "6508b589",
   "metadata": {},
   "outputs": [],
   "source": [
    "def cost_fn(x,y, theta):\n",
    "    return (hypo(x, theta) - y).T@(hypo(x, theta) - y)/(2*x.shape[0])\n"
   ]
  },
  {
   "cell_type": "markdown",
   "id": "19fa71e3",
   "metadata": {},
   "source": [
    "### Gradient Descent"
   ]
  },
  {
   "cell_type": "markdown",
   "id": "46a66f6d",
   "metadata": {},
   "source": [
    "$$\\theta_j := \\theta_j - \\alpha {\\partial \\over \\partial\\theta_j}J(\\theta)$$\n",
    "\n",
    "$$\\theta := \\theta - \\alpha \\sum\\limits_{i=1}^{n}(y^{(i)} - h_\\theta(x^{(i)})).x^{(i)}$$\n"
   ]
  },
  {
   "cell_type": "code",
   "execution_count": 259,
   "id": "8271b51b",
   "metadata": {},
   "outputs": [],
   "source": [
    "def grad_d(x,y,theta,alpha=0.1 ,epochs=10):\n",
    "    m = x.shape[0]\n",
    "    cost = []\n",
    "    \n",
    "    for i in range(epochs):\n",
    "        h_x   = hypo(x , theta)\n",
    "        error = (1/m)*(x.T@(h_x - y))\n",
    "        theta = theta - (alpha)*error\n",
    "        cost.append(cost_fn(x,y,theta))\n",
    "    \n",
    "    return theta , cost\n",
    "        "
   ]
  },
  {
   "cell_type": "code",
   "execution_count": 260,
   "id": "93e85b0d",
   "metadata": {
    "scrolled": true
   },
   "outputs": [],
   "source": [
    "theta, cost = grad_d(x, y, theta , alpha= 0.1 , epochs = 30)"
   ]
  },
  {
   "cell_type": "markdown",
   "id": "65aaeccd",
   "metadata": {},
   "source": [
    "##  Evaluation"
   ]
  },
  {
   "cell_type": "code",
   "execution_count": 343,
   "id": "9f361db5",
   "metadata": {},
   "outputs": [],
   "source": [
    "def pl_cost(J, epochs):\n",
    "    plt.xlabel('Epochs')\n",
    "    plt.ylabel('Cost')\n",
    "    plt.plot(epochs, J)"
   ]
  },
  {
   "cell_type": "code",
   "execution_count": 345,
   "id": "95d85cd2",
   "metadata": {},
   "outputs": [
    {
     "data": {
      "image/png": "[encoded data removed]",
      "text/plain": [
       "<Figure size 640x480 with 1 Axes>"
      ]
     },
     "metadata": {},
     "output_type": "display_data"
    }
   ],
   "source": [
    "#for testing and plotting cost \n",
    "epochs = []\n",
    "z = []\n",
    "count = 0\n",
    "for i in cost:\n",
    "    z.append(i[0][0])\n",
    "    epochs.append(count)\n",
    "    count += 1\n",
    "z = np.array(z)\n",
    "epochs = np.array(epochs)\n",
    "plot_cost(z, epochs)\n",
    "\n"
   ]
  },
  {
   "cell_type": "markdown",
   "id": "1096221e",
   "metadata": {},
   "source": [
    "###  Test"
   ]
  },
  {
   "cell_type": "code",
   "execution_count": 333,
   "id": "0201812a",
   "metadata": {},
   "outputs": [
    {
     "data": {
      "text/html": [
       "<div>\n",
       "<style scoped>\n",
       "    .dataframe tbody tr th:only-of-type {\n",
       "        vertical-align: middle;\n",
       "    }\n",
       "\n",
       "    .dataframe tbody tr th {\n",
       "        vertical-align: top;\n",
       "    }\n",
       "\n",
       "    .dataframe thead th {\n",
       "        text-align: right;\n",
       "    }\n",
       "</style>\n",
       "<table border=\"1\" class=\"dataframe\">\n",
       "  <thead>\n",
       "    <tr style=\"text-align: right;\">\n",
       "      <th></th>\n",
       "      <th>Avg. Area Income</th>\n",
       "      <th>Avg. Area House Age</th>\n",
       "      <th>Avg. Area Number of Rooms</th>\n",
       "      <th>Avg. Area Number of Bedrooms</th>\n",
       "      <th>Area Population</th>\n",
       "      <th>Price</th>\n",
       "    </tr>\n",
       "  </thead>\n",
       "  <tbody>\n",
       "    <tr>\n",
       "      <th>1207</th>\n",
       "      <td>84020.497594</td>\n",
       "      <td>5.377846</td>\n",
       "      <td>7.328435</td>\n",
       "      <td>4.24</td>\n",
       "      <td>25975.505829</td>\n",
       "      <td>1.458009e+06</td>\n",
       "    </tr>\n",
       "  </tbody>\n",
       "</table>\n",
       "</div>"
      ],
      "text/plain": [
       "      Avg. Area Income  Avg. Area House Age  Avg. Area Number of Rooms  \\\n",
       "1207      84020.497594             5.377846                   7.328435   \n",
       "\n",
       "      Avg. Area Number of Bedrooms  Area Population         Price  \n",
       "1207                          4.24     25975.505829  1.458009e+06  "
      ]
     },
     "execution_count": 333,
     "metadata": {},
     "output_type": "execute_result"
    }
   ],
   "source": [
    "sample= data.sample()\n",
    "sample"
   ]
  },
  {
   "cell_type": "code",
   "execution_count": 334,
   "id": "2e403a3a",
   "metadata": {},
   "outputs": [],
   "source": [
    "sample.drop('Price',axis=1,inplace=True)"
   ]
  },
  {
   "cell_type": "code",
   "execution_count": 335,
   "id": "5c237f1b",
   "metadata": {},
   "outputs": [],
   "source": [
    "for i in range(0,5):\n",
    "    col = X.columns[i]\n",
    "    mean = X[col].mean()\n",
    "    std =X[col].std()\n",
    "    \n",
    "    sample_col = sample.columns[i]\n",
    "     \n",
    "    def standard(x):\n",
    "        return (x-mean)/std\n",
    "    \n",
    "    sample[sample_col] = sample[sample_col].apply(standard)\n",
    "        \n",
    "   "
   ]
  },
  {
   "cell_type": "code",
   "execution_count": 336,
   "id": "bd0cf656",
   "metadata": {},
   "outputs": [],
   "source": [
    "sample = np.array(sample)\n",
    "sample[0][0] = 1"
   ]
  },
  {
   "cell_type": "code",
   "execution_count": 337,
   "id": "0d894a65",
   "metadata": {},
   "outputs": [
    {
     "name": "stdout",
     "output_type": "stream",
     "text": [
      "Price of house:  1108841.6715345266\n"
     ]
    }
   ],
   "source": [
    "result = theta[0] + theta[1]*sample[0][1] + theta[2]*sample[0][2] + theta[3]*sample[0][3]+ theta[4]*sample[0][4]\n",
    "print(\"Price of house: \", result[0])"
   ]
  },
  {
   "cell_type": "markdown",
   "id": "1d5cfa55",
   "metadata": {},
   "source": [
    "## The Normal Equation"
   ]
  },
  {
   "cell_type": "markdown",
   "id": "8eaeb39e",
   "metadata": {},
   "source": [
    "- Therefore the value of $\\theta$ that minimizes $J(\\theta)$ is given in closed form by the equaton below:\n",
    "$$\\theta = (X^TX)^{-1}X^T\\vec{y}$$"
   ]
  },
  {
   "cell_type": "code",
   "execution_count": 338,
   "id": "a6267ed9",
   "metadata": {},
   "outputs": [],
   "source": [
    "theta_normal = (np.linalg.inv(x.T@x))@(x.T)@(y)"
   ]
  },
  {
   "cell_type": "code",
   "execution_count": 339,
   "id": "4311d405",
   "metadata": {},
   "outputs": [
    {
     "data": {
      "text/plain": [
       "array([[1232072.65414236],\n",
       "       [ 229978.66143211],\n",
       "       [ 164221.85396889],\n",
       "       [ 121363.78620366],\n",
       "       [   2037.73223706],\n",
       "       [ 150877.26565199]])"
      ]
     },
     "execution_count": 339,
     "metadata": {},
     "output_type": "execute_result"
    }
   ],
   "source": [
    "theta_normal"
   ]
  },
  {
   "cell_type": "code",
   "execution_count": 347,
   "id": "c646182f",
   "metadata": {
    "scrolled": true
   },
   "outputs": [
    {
     "name": "stdout",
     "output_type": "stream",
     "text": [
      "Price of house:  1172003.3695330382\n"
     ]
    }
   ],
   "source": [
    "result_normal = theta_normal[0] + theta_normal[1]*sample[0][1] + theta_normal[2]*sample[0][2] + theta_normal[3]*sample[0][3]+ theta_normal[4]*sample[0][4]\n",
    "print(\"Price of house: \", result_normal[0])"
   ]
  }
 ],
 "metadata": {
  "kernelspec": {
   "display_name": "Python 3 (ipykernel)",
   "language": "python",
   "name": "python3"
  },
  "language_info": {
   "codemirror_mode": {
    "name": "ipython",
    "version": 3
   },
   "file_extension": ".py",
   "mimetype": "text/x-python",
   "name": "python",
   "nbconvert_exporter": "python",
   "pygments_lexer": "ipython3",
   "version": "3.10.7"
  }
 },
 "nbformat": 4,
 "nbformat_minor": 5
}
