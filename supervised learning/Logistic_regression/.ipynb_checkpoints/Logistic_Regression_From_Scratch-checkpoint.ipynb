{
 "cells": [
  {
   "cell_type": "code",
   "execution_count": null,
   "id": "6a36b945",
   "metadata": {},
   "outputs": [],
   "source": []
  },
  {
   "cell_type": "markdown",
   "id": "05bfa352",
   "metadata": {},
   "source": [
    "# Logistic Regression"
   ]
  },
  {
   "cell_type": "markdown",
   "id": "ca09cfe6",
   "metadata": {},
   "source": [
    "Logistic Regression is a machine learning algorithm that is applied to classification problems. Here, the $y's$(Output) are discrete valued i.e. they take the form of $0$ or $1$.  \n"
   ]
  },
  {
   "cell_type": "markdown",
   "id": "d816335b",
   "metadata": {},
   "source": [
    "## 1. Data "
   ]
  },
  {
   "cell_type": "code",
   "execution_count": 400,
   "id": "c64d471c",
   "metadata": {},
   "outputs": [],
   "source": [
    "import pandas as pd\n",
    "import numpy as np\n",
    "import matplotlib.pyplot as plt\n",
    "import warnings\n",
    "warnings.filterwarnings('ignore')"
   ]
  },
  {
   "cell_type": "code",
   "execution_count": 401,
   "id": "eb3de6d6",
   "metadata": {
    "scrolled": true
   },
   "outputs": [
    {
     "data": {
      "text/html": [
       "<div>\n",
       "<style scoped>\n",
       "    .dataframe tbody tr th:only-of-type {\n",
       "        vertical-align: middle;\n",
       "    }\n",
       "\n",
       "    .dataframe tbody tr th {\n",
       "        vertical-align: top;\n",
       "    }\n",
       "\n",
       "    .dataframe thead th {\n",
       "        text-align: right;\n",
       "    }\n",
       "</style>\n",
       "<table border=\"1\" class=\"dataframe\">\n",
       "  <thead>\n",
       "    <tr style=\"text-align: right;\">\n",
       "      <th></th>\n",
       "      <th>male</th>\n",
       "      <th>age</th>\n",
       "      <th>education</th>\n",
       "      <th>currentSmoker</th>\n",
       "      <th>cigsPerDay</th>\n",
       "      <th>BPMeds</th>\n",
       "      <th>prevalentStroke</th>\n",
       "      <th>prevalentHyp</th>\n",
       "      <th>diabetes</th>\n",
       "      <th>totChol</th>\n",
       "      <th>sysBP</th>\n",
       "      <th>diaBP</th>\n",
       "      <th>BMI</th>\n",
       "      <th>heartRate</th>\n",
       "      <th>glucose</th>\n",
       "      <th>target</th>\n",
       "    </tr>\n",
       "  </thead>\n",
       "  <tbody>\n",
       "    <tr>\n",
       "      <th>0</th>\n",
       "      <td>1</td>\n",
       "      <td>39</td>\n",
       "      <td>4.0</td>\n",
       "      <td>0</td>\n",
       "      <td>0.0</td>\n",
       "      <td>0.0</td>\n",
       "      <td>0</td>\n",
       "      <td>0</td>\n",
       "      <td>0</td>\n",
       "      <td>195.0</td>\n",
       "      <td>106.0</td>\n",
       "      <td>70.0</td>\n",
       "      <td>26.97</td>\n",
       "      <td>80.0</td>\n",
       "      <td>77.0</td>\n",
       "      <td>0</td>\n",
       "    </tr>\n",
       "    <tr>\n",
       "      <th>1</th>\n",
       "      <td>0</td>\n",
       "      <td>46</td>\n",
       "      <td>2.0</td>\n",
       "      <td>0</td>\n",
       "      <td>0.0</td>\n",
       "      <td>0.0</td>\n",
       "      <td>0</td>\n",
       "      <td>0</td>\n",
       "      <td>0</td>\n",
       "      <td>250.0</td>\n",
       "      <td>121.0</td>\n",
       "      <td>81.0</td>\n",
       "      <td>28.73</td>\n",
       "      <td>95.0</td>\n",
       "      <td>76.0</td>\n",
       "      <td>0</td>\n",
       "    </tr>\n",
       "    <tr>\n",
       "      <th>2</th>\n",
       "      <td>1</td>\n",
       "      <td>48</td>\n",
       "      <td>1.0</td>\n",
       "      <td>1</td>\n",
       "      <td>20.0</td>\n",
       "      <td>0.0</td>\n",
       "      <td>0</td>\n",
       "      <td>0</td>\n",
       "      <td>0</td>\n",
       "      <td>245.0</td>\n",
       "      <td>127.5</td>\n",
       "      <td>80.0</td>\n",
       "      <td>25.34</td>\n",
       "      <td>75.0</td>\n",
       "      <td>70.0</td>\n",
       "      <td>0</td>\n",
       "    </tr>\n",
       "    <tr>\n",
       "      <th>3</th>\n",
       "      <td>0</td>\n",
       "      <td>61</td>\n",
       "      <td>3.0</td>\n",
       "      <td>1</td>\n",
       "      <td>30.0</td>\n",
       "      <td>0.0</td>\n",
       "      <td>0</td>\n",
       "      <td>1</td>\n",
       "      <td>0</td>\n",
       "      <td>225.0</td>\n",
       "      <td>150.0</td>\n",
       "      <td>95.0</td>\n",
       "      <td>28.58</td>\n",
       "      <td>65.0</td>\n",
       "      <td>103.0</td>\n",
       "      <td>1</td>\n",
       "    </tr>\n",
       "    <tr>\n",
       "      <th>4</th>\n",
       "      <td>0</td>\n",
       "      <td>46</td>\n",
       "      <td>3.0</td>\n",
       "      <td>1</td>\n",
       "      <td>23.0</td>\n",
       "      <td>0.0</td>\n",
       "      <td>0</td>\n",
       "      <td>0</td>\n",
       "      <td>0</td>\n",
       "      <td>285.0</td>\n",
       "      <td>130.0</td>\n",
       "      <td>84.0</td>\n",
       "      <td>23.10</td>\n",
       "      <td>85.0</td>\n",
       "      <td>85.0</td>\n",
       "      <td>0</td>\n",
       "    </tr>\n",
       "  </tbody>\n",
       "</table>\n",
       "</div>"
      ],
      "text/plain": [
       "   male  age  education  currentSmoker  cigsPerDay  BPMeds  prevalentStroke  \\\n",
       "0     1   39        4.0              0         0.0     0.0                0   \n",
       "1     0   46        2.0              0         0.0     0.0                0   \n",
       "2     1   48        1.0              1        20.0     0.0                0   \n",
       "3     0   61        3.0              1        30.0     0.0                0   \n",
       "4     0   46        3.0              1        23.0     0.0                0   \n",
       "\n",
       "   prevalentHyp  diabetes  totChol  sysBP  diaBP    BMI  heartRate  glucose  \\\n",
       "0             0         0    195.0  106.0   70.0  26.97       80.0     77.0   \n",
       "1             0         0    250.0  121.0   81.0  28.73       95.0     76.0   \n",
       "2             0         0    245.0  127.5   80.0  25.34       75.0     70.0   \n",
       "3             1         0    225.0  150.0   95.0  28.58       65.0    103.0   \n",
       "4             0         0    285.0  130.0   84.0  23.10       85.0     85.0   \n",
       "\n",
       "   target  \n",
       "0       0  \n",
       "1       0  \n",
       "2       0  \n",
       "3       1  \n",
       "4       0  "
      ]
     },
     "execution_count": 401,
     "metadata": {},
     "output_type": "execute_result"
    }
   ],
   "source": [
    "data = pd.read_csv('Framingham')\n",
    "data.drop('Unnamed: 0',axis=1,inplace=True)\n",
    "data.dropna(inplace = True)\n",
    "data.head()"
   ]
  },
  {
   "cell_type": "markdown",
   "id": "ebd84011",
   "metadata": {},
   "source": [
    "###  Objective"
   ]
  },
  {
   "cell_type": "markdown",
   "id": "c6608d82",
   "metadata": {},
   "source": [
    "Predict the overall risk of getting heart disease in 10 years using logistic regression"
   ]
  },
  {
   "cell_type": "markdown",
   "id": "de3fc4cd",
   "metadata": {},
   "source": [
    "### Split Train and Test"
   ]
  },
  {
   "cell_type": "code",
   "execution_count": 402,
   "id": "339fd2eb",
   "metadata": {
    "scrolled": true
   },
   "outputs": [],
   "source": [
    "train_size = int(0.8*len(data))\n",
    "test_size = int(0.2*len(data))\n",
    "\n",
    "train_data = data.head(train_size)\n",
    "test_data = data.tail(test_size)"
   ]
  },
  {
   "cell_type": "markdown",
   "id": "bbdd3972",
   "metadata": {},
   "source": [
    "### Features"
   ]
  },
  {
   "cell_type": "markdown",
   "id": "64bc8d33",
   "metadata": {},
   "source": [
    "$X$ - male, age, education,currentSmoker,cigsPerDay,BPMeds, prevalentStroke, prevalentHyp, diabetes, totChol, sysBP,          diaBP,BMI,heartRate, glucose  \n",
    "  \n",
    "   \n",
    "$y$ - target : $0$ means **No** and $1$ means **Yes**\n"
   ]
  },
  {
   "cell_type": "code",
   "execution_count": 403,
   "id": "d4788d4e",
   "metadata": {},
   "outputs": [],
   "source": [
    "X = train_data[['male', 'age', 'education', 'currentSmoker', 'cigsPerDay', 'BPMeds',\n",
    "       'prevalentStroke', 'prevalentHyp', 'diabetes', 'totChol', 'sysBP',\n",
    "       'diaBP', 'BMI', 'heartRate', 'glucose']]\n",
    "y = train_data['target']"
   ]
  },
  {
   "cell_type": "markdown",
   "id": "0d545c8d",
   "metadata": {},
   "source": [
    "## 2. Normalization"
   ]
  },
  {
   "cell_type": "code",
   "execution_count": 404,
   "id": "6027bc2a",
   "metadata": {},
   "outputs": [],
   "source": [
    "df = pd.DataFrame()\n",
    "\n",
    "for i in range(0,15):\n",
    "    col = X.columns[i]\n",
    "    mean = X[col].mean()\n",
    "    std =X[col].std()\n",
    "     \n",
    "    def standard(x):\n",
    "        return (x-mean)/std\n",
    "    \n",
    "    df[col] = X[col].apply(standard)"
   ]
  },
  {
   "cell_type": "markdown",
   "id": "b950b93a",
   "metadata": {},
   "source": [
    "## 3. Model"
   ]
  },
  {
   "attachments": {
    "image.png": {
     "image/png": "[encoded data removed]"
    }
   },
   "cell_type": "markdown",
   "id": "a4136e9a",
   "metadata": {},
   "source": [
    "### Hypothesis\n",
    "The goal is to find the hypothesis that maps the $X's$ to the corresponging $y$ class.\n",
    "\n",
    "The input features can be expressed as a linear combination. We have 15 input features  \n",
    "\n",
    "$$\\theta^Tx = \\theta_0 + \\theta_1 x_1+ \\theta_2 x_2 + ....+ \\theta_{15} x_{15}$$\n",
    "$where:$\n",
    "$$x_0 = 1 $$\n",
    "\n",
    "Since $y\\; \\epsilon \\; \\{0,1\\}$: $$h_\\theta(x) = g(\\theta^Tx) = {1 \\over 1 + e^{-\\theta^Tx}} $$\n",
    "\n",
    "$where:$ $$g(z) = {1 \\over 1 + e^{-z}} $$\n",
    "\n",
    "Here $g(z)$ is the sigmoid function. \n",
    "![image.png](attachment:image.png)\n",
    "\n",
    "From the graph, we notice that as $z \\to \\infty,\\; g(z)$ tends toward $1$ and as $z \\to -\\infty,\\; g(z)$ tends toward $0$  \n",
    "  \n",
    "  \n",
    "In our case $z = \\theta^Tx$. Therefore, $h(\\theta^Tx) = g(\\theta^Tx)$ will consist of values between $0$ and $1$ with which we can easily classify to either class. For example, if the value of $h(\\theta^Tx)$ is between $0$ and $0.5$ it belongs to class $0$ and if it falls between $0.5$ and $1$, it belongs to class $1$\n"
   ]
  },
  {
   "cell_type": "code",
   "execution_count": 405,
   "id": "dd47da1e",
   "metadata": {},
   "outputs": [],
   "source": [
    "x = np.array(df)\n",
    "y = np.array(y)"
   ]
  },
  {
   "cell_type": "code",
   "execution_count": 406,
   "id": "8a80e804",
   "metadata": {},
   "outputs": [],
   "source": [
    "x = np.hstack((np.ones((x.shape[0],1)), x))\n",
    "y = np.reshape(y, (2924 ,1))"
   ]
  },
  {
   "cell_type": "code",
   "execution_count": 407,
   "id": "a1eab925",
   "metadata": {},
   "outputs": [],
   "source": [
    "theta = np.zeros((x.shape[1], 1))"
   ]
  },
  {
   "cell_type": "code",
   "execution_count": 408,
   "id": "be756b04",
   "metadata": {},
   "outputs": [],
   "source": [
    "#hypothesis function\n",
    "def hypo( x, theta):\n",
    "    z = np.matmul(x, theta)\n",
    "    return 1/(1 + np.exp(-z))"
   ]
  },
  {
   "cell_type": "markdown",
   "id": "f5bc59fc",
   "metadata": {},
   "source": [
    "##  Optimization"
   ]
  },
  {
   "cell_type": "markdown",
   "id": "21c1f798",
   "metadata": {},
   "source": [
    "Here, we need to find the value on $\\theta$ that will minimize the loss i.e. the value of $\\theta$ that will result to a prediction that is as close as possible to the actual value of $y$. We can find this $\\theta$ value though maximizing the liklehood.  \n",
    "  \n",
    "First, assume: $$P(y = 1|x;\\theta) = h_\\theta(x)$$  \n",
    "\n",
    "$$P(y = 0|x;\\theta) = 1 - h_\\theta(x)$$\n",
    "\n",
    "This can be written more compactly as:\n",
    "\n",
    "$$P(y|x;\\theta) = (h_\\theta(x))^y(1 - h_\\theta(x))^{1-y}$$  \n",
    "if $$y = 0 \\;\\;then\\;\\; 1 - h_\\theta(x)\\;\\; evaluates $$  \n",
    "\n",
    "$$y = 1\\;\\; then \\;\\;h_\\theta(x)\\;\\; evaluates$$\n",
    "\n",
    "**Likelihood**  \n",
    "\n",
    "$$L(\\theta) = L(\\theta;X,\\vec{y}) = p(\\vec{y}|X; \\theta)$$\n",
    "$$L(\\theta) =  \\prod\\limits_{i=1}^{n} P(y^{(i)}|x^{(i)};\\theta)$$\n",
    "$$L(\\theta) =  \\prod\\limits_{i=1}^{n} (h_\\theta(x^{(i)}))^{y^{(i)}}(1 - h_\\theta(x^{(i)}))^{1-y^{(i)}}$$  \n",
    "\n",
    "**Log likelihood**  \n",
    "It is easier to maximize the log likelihood:  \n",
    "$$\\ell(\\theta) = logL(\\theta)$$\n",
    "$$\\ell(\\theta) = \\sum\\limits_{i=1}^n y^{(i)} log\\;h(x^{(i)}) + (1 - y^{(i)})log(1 - h(x^{(i)}))$$\n",
    "\n",
    "\n"
   ]
  },
  {
   "cell_type": "markdown",
   "id": "4e5504a9",
   "metadata": {},
   "source": [
    "### Loss"
   ]
  },
  {
   "cell_type": "markdown",
   "id": "3c3bd725",
   "metadata": {},
   "source": [
    "since $$ arg\\;max\\ell(\\theta) = arg\\;minJ(\\theta) $$  \n",
    "where $J(\\theta)$ is the loss function, therefore our loss will be given as:\n",
    "\n",
    "**loss function:**\n",
    "$$J(\\theta) = -\\sum\\limits_{i=1}^n y^{(i)} log\\;h(x^{(i)}) + (1 - y^{(i)})log(1 - h(x^{(i)}))$$\n",
    "**cost function**\n",
    "$$J(\\theta) = -{1 \\over n}\\left[\\sum\\limits_{i=1}^n y^{(i)} log\\;h(x^{(i)}) + (1 - y^{(i)})log(1 - h(x^{(i)}))\\right]$$\n",
    "\n"
   ]
  },
  {
   "cell_type": "code",
   "execution_count": 409,
   "id": "d5df2820",
   "metadata": {},
   "outputs": [],
   "source": [
    "def cost_fn(x,y,theta):\n",
    "    h_x   = hypo(x , theta)\n",
    "    cost = -np.mean(y*(np.log(h_x))- (1-y)*np.log(1-h_x))\n",
    "    return cost\n",
    "    "
   ]
  },
  {
   "cell_type": "markdown",
   "id": "d7552a4e",
   "metadata": {},
   "source": [
    "**stochastic gradient ascent rule**  \n",
    "  \n",
    "  \n",
    "$arg\\;max\\;\\ell(\\theta) = arg\\;min\\;J(\\theta)$    \n",
    "$$\\theta:=\\theta +\\alpha\\nabla_\\theta(\\ell(\\theta))$$  \n",
    "since:   \n",
    "$h_\\theta(x) = g(\\theta^Tx)$, then,\n",
    "for a single training example:  \n",
    "\n",
    "$$\\ell(\\theta) = y log\\;g(\\theta^Tx) + (1-y)log(1 - g(\\theta^Tx))$$  \n",
    "\n",
    "since:  \n",
    "\n",
    "$\\nabla_\\theta(\\theta^Tx = x)$,  then:\n",
    "\n",
    "$${\\partial \\over \\partial\\theta_j}\\ell(\\theta) = y{1 \\over g(\\theta^Tx)} g'(\\theta^Tx)x +(1-y){1 \\over 1 - g(\\theta^Tx)} (-1)(g'(\\theta^Tx))x$$\n",
    "\n",
    "since:  \n",
    "$g'(z) = {d \\over dz}{1 \\over 1 + e^{-z}} = g(z)(1-g(z))$, then:  \n",
    "\n",
    "$${\\partial \\over \\partial\\theta_j}\\ell(\\theta) = y{1 \\over g(\\theta^Tx)} g(\\theta^Tx)(1- g(\\theta^Tx))x +(1-y){1 \\over 1 - g(\\theta^Tx)} (-1)g(\\theta^Tx)(1 - g(\\theta^Tx))x$$\n",
    "\n",
    "$$= y(1- g(\\theta^Tx))x +(1-y){1 \\over 1 - g(\\theta^Tx)} (-1)g(\\theta^Tx))x$$\n",
    "\n",
    "$$= x\\left[y(1- g(\\theta^Tx)) - (1-y)g(\\theta^Tx)\\right]$$  \n",
    "\n",
    "$$= x\\left[y- yg(\\theta^Tx)) - g(\\theta^Tx) + yg(\\theta^Tx)\\right]$$\n",
    "\n",
    "$$= x\\left[y-g(\\theta^Tx)\\right]$$\n",
    "\n",
    "$$= (y - h_\\theta(x))x$$\n",
    "\n",
    "**Update rule:**\n",
    "\n",
    "$$\\theta_j := \\theta_j + \\alpha(y^{(i)} - h_\\theta(x^{(i)})).x^{(i)}_j$$\n",
    "\n"
   ]
  },
  {
   "cell_type": "code",
   "execution_count": 410,
   "id": "6274af46",
   "metadata": {},
   "outputs": [],
   "source": [
    "def optimize(x,y,theta,alpha=0.1 ,epochs=30):\n",
    "    m = x.shape[0]\n",
    "    cost = []\n",
    "    \n",
    "    for i in range(epochs):\n",
    "        h_x   = hypo(x , theta)\n",
    "        error = (1/m)*np.dot(x.T,(h_x - y))\n",
    "        theta = theta + (alpha)*error\n",
    "        cost.append(cost_fn(x,y,theta))\n",
    "    \n",
    "    return theta, cost\n",
    "        "
   ]
  },
  {
   "cell_type": "code",
   "execution_count": 411,
   "id": "7ed04fe7",
   "metadata": {},
   "outputs": [],
   "source": [
    "theta,cost = optimize(x, y, theta , alpha= 0.1 , epochs = 3000)"
   ]
  },
  {
   "cell_type": "code",
   "execution_count": 412,
   "id": "8da6dcd9",
   "metadata": {
    "scrolled": true
   },
   "outputs": [
    {
     "data": {
      "text/plain": [
       "array([[ 162.32335601],\n",
       "       [  -7.33710411],\n",
       "       [ -74.35960245],\n",
       "       [  21.00070741],\n",
       "       [  15.10107402],\n",
       "       [   6.18601771],\n",
       "       [ -42.40204468],\n",
       "       [ -13.89415358],\n",
       "       [-143.44230496],\n",
       "       [ -36.56374035],\n",
       "       [ -36.13449776],\n",
       "       [-122.84698531],\n",
       "       [-104.39971754],\n",
       "       [ -55.89346181],\n",
       "       [ -24.83602337],\n",
       "       [ -39.89948969]])"
      ]
     },
     "execution_count": 412,
     "metadata": {},
     "output_type": "execute_result"
    }
   ],
   "source": [
    "theta"
   ]
  },
  {
   "cell_type": "markdown",
   "id": "b31c2a63",
   "metadata": {},
   "source": [
    "### Testing"
   ]
  },
  {
   "cell_type": "markdown",
   "id": "0f371563",
   "metadata": {},
   "source": [
    "**Decision Boundary**"
   ]
  },
  {
   "cell_type": "code",
   "execution_count": 413,
   "id": "ada0b2c1",
   "metadata": {
    "scrolled": true
   },
   "outputs": [],
   "source": [
    "sample =  test_data.drop('target',axis=1)\n",
    "y_test = test_data['target']"
   ]
  },
  {
   "cell_type": "code",
   "execution_count": 414,
   "id": "459d774a",
   "metadata": {},
   "outputs": [],
   "source": [
    "for i in range(0,15):\n",
    "    col = X.columns[i]\n",
    "    mean = X[col].mean()\n",
    "    std =X[col].std()\n",
    "    \n",
    "    sample_col = sample.columns[i]\n",
    "     \n",
    "    def standard(x):\n",
    "        return (x-mean)/std\n",
    "    \n",
    "    sample[sample_col] = sample[sample_col].apply(standard)"
   ]
  },
  {
   "cell_type": "code",
   "execution_count": 415,
   "id": "ed9d64a2",
   "metadata": {},
   "outputs": [
    {
     "data": {
      "text/plain": [
       "(731, 15)"
      ]
     },
     "execution_count": 415,
     "metadata": {},
     "output_type": "execute_result"
    }
   ],
   "source": [
    "sample.shape"
   ]
  },
  {
   "cell_type": "code",
   "execution_count": 416,
   "id": "bc91c29e",
   "metadata": {
    "scrolled": false
   },
   "outputs": [],
   "source": [
    "sample = np.array(sample)\n",
    "sample = np.insert(sample, 0, 1, axis=1)\n",
    "result = hypo(sample, theta)\n"
   ]
  },
  {
   "cell_type": "code",
   "execution_count": 342,
   "id": "e20ce422",
   "metadata": {},
   "outputs": [],
   "source": [
    "# preds = pd.DataFrame(result)\n",
    "# y_test = y_test.to_frame()"
   ]
  },
  {
   "cell_type": "code",
   "execution_count": 423,
   "id": "be913e0d",
   "metadata": {},
   "outputs": [
    {
     "data": {
      "text/plain": [
       "array([1.])"
      ]
     },
     "execution_count": 423,
     "metadata": {},
     "output_type": "execute_result"
    }
   ],
   "source": [
    "result[730]"
   ]
  },
  {
   "cell_type": "code",
   "execution_count": 343,
   "id": "cbd8a882",
   "metadata": {},
   "outputs": [],
   "source": [
    "from sklearn.metrics import classification_report, confusion_matrix , plot_confusion_matrix"
   ]
  },
  {
   "cell_type": "code",
   "execution_count": 438,
   "id": "e4513412",
   "metadata": {},
   "outputs": [],
   "source": [
    "predictions = []\n",
    "\n",
    "for i in range(731):\n",
    "    if result[i] >= 0.5:\n",
    "        predictions.append(1)\n",
    "    elif result[i] < 0.5:\n",
    "        predictions.append(0)"
   ]
  },
  {
   "cell_type": "code",
   "execution_count": 441,
   "id": "a3b54154",
   "metadata": {},
   "outputs": [
    {
     "data": {
      "text/plain": [
       "731"
      ]
     },
     "execution_count": 441,
     "metadata": {},
     "output_type": "execute_result"
    }
   ],
   "source": [
    "len(predictions)"
   ]
  }
 ],
 "metadata": {
  "kernelspec": {
   "display_name": "Python 3 (ipykernel)",
   "language": "python",
   "name": "python3"
  },
  "language_info": {
   "codemirror_mode": {
    "name": "ipython",
    "version": 3
   },
   "file_extension": ".py",
   "mimetype": "text/x-python",
   "name": "python",
   "nbconvert_exporter": "python",
   "pygments_lexer": "ipython3",
   "version": "3.10.7"
  }
 },
 "nbformat": 4,
 "nbformat_minor": 5
}
