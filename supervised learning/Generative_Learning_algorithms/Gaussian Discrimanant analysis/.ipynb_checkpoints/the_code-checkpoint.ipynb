{
 "cells": [
  {
   "cell_type": "code",
   "execution_count": 272,
   "metadata": {
    "execution": {
     "iopub.execute_input": "2023-02-17T09:59:33.775662Z",
     "iopub.status.busy": "2023-02-17T09:59:33.774891Z",
     "iopub.status.idle": "2023-02-17T09:59:33.781114Z",
     "shell.execute_reply": "2023-02-17T09:59:33.779815Z",
     "shell.execute_reply.started": "2023-02-17T09:59:33.775613Z"
    }
   },
   "outputs": [],
   "source": [
    "import numpy as np\n",
    "import pandas as pd\n",
    "from scipy.stats import multivariate_normal"
   ]
  },
  {
   "cell_type": "code",
   "execution_count": 255,
   "metadata": {
    "execution": {
     "iopub.execute_input": "2023-02-17T09:59:34.023631Z",
     "iopub.status.busy": "2023-02-17T09:59:34.023187Z",
     "iopub.status.idle": "2023-02-17T09:59:34.040557Z",
     "shell.execute_reply": "2023-02-17T09:59:34.039679Z",
     "shell.execute_reply.started": "2023-02-17T09:59:34.023592Z"
    }
   },
   "outputs": [],
   "source": [
    "data = pd.read_csv(\"IRIS.csv\")"
   ]
  },
  {
   "cell_type": "code",
   "execution_count": 256,
   "metadata": {
    "execution": {
     "iopub.execute_input": "2023-02-17T09:59:34.427828Z",
     "iopub.status.busy": "2023-02-17T09:59:34.427051Z",
     "iopub.status.idle": "2023-02-17T09:59:34.432757Z",
     "shell.execute_reply": "2023-02-17T09:59:34.431996Z",
     "shell.execute_reply.started": "2023-02-17T09:59:34.427763Z"
    }
   },
   "outputs": [],
   "source": [
    "def encode_num(x):\n",
    "    value = None \n",
    "    if x == \"Iris-setosa\":\n",
    "        value = 0\n",
    "    if x == \"Iris-versicolor\":\n",
    "        value = 1\n",
    "    if x == \"Iris-virginica\":\n",
    "        value = 2\n",
    "\n",
    "    return value\n"
   ]
  },
  {
   "cell_type": "code",
   "execution_count": 257,
   "metadata": {
    "execution": {
     "iopub.execute_input": "2023-02-17T09:59:36.041677Z",
     "iopub.status.busy": "2023-02-17T09:59:36.040900Z",
     "iopub.status.idle": "2023-02-17T09:59:36.048357Z",
     "shell.execute_reply": "2023-02-17T09:59:36.047157Z",
     "shell.execute_reply.started": "2023-02-17T09:59:36.041637Z"
    }
   },
   "outputs": [],
   "source": [
    "data['species'] = data['species'].apply(encode_num)"
   ]
  },
  {
   "cell_type": "code",
   "execution_count": 258,
   "metadata": {
    "execution": {
     "iopub.execute_input": "2023-02-17T09:59:40.271132Z",
     "iopub.status.busy": "2023-02-17T09:59:40.270704Z",
     "iopub.status.idle": "2023-02-17T09:59:40.279395Z",
     "shell.execute_reply": "2023-02-17T09:59:40.278014Z",
     "shell.execute_reply.started": "2023-02-17T09:59:40.271096Z"
    }
   },
   "outputs": [],
   "source": [
    "# shuffling the dataset\n",
    "data = data.sample(frac=1).reset_index(drop=True)\n",
    "\n",
    "# training set\n",
    "train_size = int(0.8*len(data))\n",
    "train_data = data.head(train_size)\n",
    "\n",
    "# test set\n",
    "test_size = int(0.2*len(data))\n",
    "test_data = data.tail(test_size)"
   ]
  },
  {
   "cell_type": "code",
   "execution_count": 259,
   "metadata": {
    "execution": {
     "iopub.execute_input": "2023-02-17T10:00:37.356906Z",
     "iopub.status.busy": "2023-02-17T10:00:37.356448Z",
     "iopub.status.idle": "2023-02-17T10:00:37.363956Z",
     "shell.execute_reply": "2023-02-17T10:00:37.362673Z",
     "shell.execute_reply.started": "2023-02-17T10:00:37.356867Z"
    }
   },
   "outputs": [],
   "source": [
    "x_train = np.array(train_data.drop(\"species\",axis=1))\n",
    "y_train = np.array(train_data[\"species\"])"
   ]
  },
  {
   "cell_type": "markdown",
   "metadata": {},
   "source": [
    "### Model  "
   ]
  },
  {
   "cell_type": "markdown",
   "metadata": {},
   "source": [
    "#### P(y)"
   ]
  },
  {
   "cell_type": "code",
   "execution_count": 260,
   "metadata": {
    "execution": {
     "iopub.execute_input": "2023-02-17T09:11:42.663635Z",
     "iopub.status.busy": "2023-02-17T09:11:42.663218Z",
     "iopub.status.idle": "2023-02-17T09:11:42.671910Z",
     "shell.execute_reply": "2023-02-17T09:11:42.670328Z",
     "shell.execute_reply.started": "2023-02-17T09:11:42.663600Z"
    }
   },
   "outputs": [
    {
     "ename": "AttributeError",
     "evalue": "'numpy.ndarray' object has no attribute 'value_counts'",
     "output_type": "error",
     "traceback": [
      "\u001b[1;31m---------------------------------------------------------------------------\u001b[0m",
      "\u001b[1;31mAttributeError\u001b[0m                            Traceback (most recent call last)",
      "Cell \u001b[1;32mIn [260], line 2\u001b[0m\n\u001b[0;32m      1\u001b[0m \u001b[38;5;66;03m# First we calculate P(y), the prior probability\u001b[39;00m\n\u001b[1;32m----> 2\u001b[0m priors \u001b[38;5;241m=\u001b[39m y_train\u001b[38;5;241m.\u001b[39mvalue_counts()\u001b[38;5;241m/\u001b[39m\u001b[38;5;28mlen\u001b[39m(y_train)\n",
      "\u001b[1;31mAttributeError\u001b[0m: 'numpy.ndarray' object has no attribute 'value_counts'"
     ]
    }
   ],
   "source": [
    "# First we calculate P(y), the prior probability\n",
    "priors = y_train.value_counts()/len(y_train)"
   ]
  },
  {
   "cell_type": "markdown",
   "metadata": {},
   "source": [
    "#### P(x|y)"
   ]
  },
  {
   "cell_type": "code",
   "execution_count": 261,
   "metadata": {
    "execution": {
     "iopub.execute_input": "2023-02-17T10:03:13.595946Z",
     "iopub.status.busy": "2023-02-17T10:03:13.595499Z",
     "iopub.status.idle": "2023-02-17T10:03:13.606510Z",
     "shell.execute_reply": "2023-02-17T10:03:13.605164Z",
     "shell.execute_reply.started": "2023-02-17T10:03:13.595908Z"
    }
   },
   "outputs": [],
   "source": [
    "# we calculate the mean values\n",
    "mean = train_data.groupby('species').mean()\n",
    "\n",
    "# we calculate the variance values\n",
    "covariance = train_data.groupby('species').cov()\n"
   ]
  },
  {
   "cell_type": "code",
   "execution_count": 262,
   "metadata": {},
   "outputs": [],
   "source": [
    "def model(x):\n",
    "    \n",
    "    log_likelihoods = []\n",
    "    posterior = []\n",
    "    predictions = []\n",
    "    \n",
    "    \n",
    "    for i in x.index:\n",
    "        for cls in range(len(priors)):\n",
    "            \n",
    "            log_prior = np.log(priors[cls])\n",
    "            log_likelihoods.append(log_prior)\n",
    "            \n",
    "            for col in x.columns:\n",
    "                \n",
    "                data = x[col].loc[i]\n",
    "                class_mean = mean[col].loc[cls]\n",
    "                class_var = var[col].loc[cls]\n",
    "                \n",
    "                likelihood = gaussian( data, class_mean , class_var)\n",
    "                                \n",
    "                log_likelihoods.append(np.log(likelihood))\n",
    "        \n",
    "            posterior.append(sum(log_likelihoods))\n",
    "            \n",
    "        index =  np.argmax(posterior)\n",
    "        predictions.append(classes[index])\n",
    "                \n",
    "    return predictions\n",
    "                "
   ]
  },
  {
   "cell_type": "code",
   "execution_count": null,
   "metadata": {},
   "outputs": [],
   "source": []
  },
  {
   "cell_type": "code",
   "execution_count": null,
   "metadata": {},
   "outputs": [],
   "source": []
  },
  {
   "cell_type": "code",
   "execution_count": null,
   "metadata": {},
   "outputs": [],
   "source": []
  }
 ],
 "metadata": {
  "kernelspec": {
   "display_name": "Python 3 (ipykernel)",
   "language": "python",
   "name": "python3"
  },
  "language_info": {
   "codemirror_mode": {
    "name": "ipython",
    "version": 3
   },
   "file_extension": ".py",
   "mimetype": "text/x-python",
   "name": "python",
   "nbconvert_exporter": "python",
   "pygments_lexer": "ipython3",
   "version": "3.10.7"
  }
 },
 "nbformat": 4,
 "nbformat_minor": 4
}
