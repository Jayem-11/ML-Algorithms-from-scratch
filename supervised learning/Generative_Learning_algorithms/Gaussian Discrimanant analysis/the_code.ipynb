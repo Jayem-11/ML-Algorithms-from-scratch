{
 "cells": [
  {
   "cell_type": "markdown",
   "metadata": {},
   "source": [
    "## Imports"
   ]
  },
  {
   "cell_type": "code",
   "execution_count": 83,
   "metadata": {
    "execution": {
     "iopub.execute_input": "2023-02-17T09:59:33.775662Z",
     "iopub.status.busy": "2023-02-17T09:59:33.774891Z",
     "iopub.status.idle": "2023-02-17T09:59:33.781114Z",
     "shell.execute_reply": "2023-02-17T09:59:33.779815Z",
     "shell.execute_reply.started": "2023-02-17T09:59:33.775613Z"
    }
   },
   "outputs": [],
   "source": [
    "import numpy as np\n",
    "import pandas as pd\n",
    "\n",
    "from scipy.stats import multivariate_normal\n",
    "from sklearn.metrics import confusion_matrix, classification_report, accuracy_score"
   ]
  },
  {
   "cell_type": "markdown",
   "metadata": {},
   "source": [
    "## Data"
   ]
  },
  {
   "cell_type": "code",
   "execution_count": 84,
   "metadata": {
    "execution": {
     "iopub.execute_input": "2023-02-17T09:59:34.023631Z",
     "iopub.status.busy": "2023-02-17T09:59:34.023187Z",
     "iopub.status.idle": "2023-02-17T09:59:34.040557Z",
     "shell.execute_reply": "2023-02-17T09:59:34.039679Z",
     "shell.execute_reply.started": "2023-02-17T09:59:34.023592Z"
    }
   },
   "outputs": [],
   "source": [
    "data = pd.read_csv(\"IRIS.csv\")"
   ]
  },
  {
   "cell_type": "code",
   "execution_count": 85,
   "metadata": {
    "execution": {
     "iopub.execute_input": "2023-02-17T09:59:34.427828Z",
     "iopub.status.busy": "2023-02-17T09:59:34.427051Z",
     "iopub.status.idle": "2023-02-17T09:59:34.432757Z",
     "shell.execute_reply": "2023-02-17T09:59:34.431996Z",
     "shell.execute_reply.started": "2023-02-17T09:59:34.427763Z"
    }
   },
   "outputs": [],
   "source": [
    "# we encode the y labels to discrete values.\n",
    "\n",
    "def encode_num(x):\n",
    "    value = None \n",
    "    if x == \"Iris-setosa\":\n",
    "        value = 0\n",
    "    if x == \"Iris-versicolor\":\n",
    "        value = 1\n",
    "    if x == \"Iris-virginica\":\n",
    "        value = 2\n",
    "\n",
    "    return value\n",
    "\n",
    "\n",
    "data['species'] = data['species'].apply(encode_num)"
   ]
  },
  {
   "cell_type": "code",
   "execution_count": 88,
   "metadata": {
    "execution": {
     "iopub.execute_input": "2023-02-17T09:59:40.271132Z",
     "iopub.status.busy": "2023-02-17T09:59:40.270704Z",
     "iopub.status.idle": "2023-02-17T09:59:40.279395Z",
     "shell.execute_reply": "2023-02-17T09:59:40.278014Z",
     "shell.execute_reply.started": "2023-02-17T09:59:40.271096Z"
    }
   },
   "outputs": [],
   "source": [
    "# shuffling the dataset\n",
    "data = data.sample(frac=1).reset_index(drop=True)\n",
    "\n",
    "# training set\n",
    "train_size = int(0.8*len(data))\n",
    "train_data = data.head(train_size)\n",
    "\n",
    "# test set\n",
    "test_size = int(0.2*len(data))\n",
    "test_data = data.tail(test_size)"
   ]
  },
  {
   "cell_type": "code",
   "execution_count": 89,
   "metadata": {
    "execution": {
     "iopub.execute_input": "2023-02-17T10:00:37.356906Z",
     "iopub.status.busy": "2023-02-17T10:00:37.356448Z",
     "iopub.status.idle": "2023-02-17T10:00:37.363956Z",
     "shell.execute_reply": "2023-02-17T10:00:37.362673Z",
     "shell.execute_reply.started": "2023-02-17T10:00:37.356867Z"
    }
   },
   "outputs": [],
   "source": [
    "x_train = np.array(train_data.drop(\"species\",axis=1))\n",
    "y_train = train_data[\"species\"]"
   ]
  },
  {
   "cell_type": "markdown",
   "metadata": {},
   "source": [
    "### Model  "
   ]
  },
  {
   "cell_type": "markdown",
   "metadata": {},
   "source": [
    "First, we calulate $P(y)$ ,the prior probability"
   ]
  },
  {
   "cell_type": "code",
   "execution_count": 102,
   "metadata": {
    "execution": {
     "iopub.execute_input": "2023-02-17T09:11:42.663635Z",
     "iopub.status.busy": "2023-02-17T09:11:42.663218Z",
     "iopub.status.idle": "2023-02-17T09:11:42.671910Z",
     "shell.execute_reply": "2023-02-17T09:11:42.670328Z",
     "shell.execute_reply.started": "2023-02-17T09:11:42.663600Z"
    },
    "scrolled": true
   },
   "outputs": [],
   "source": [
    "priors = y_train.value_counts()/len(y_train)"
   ]
  },
  {
   "cell_type": "markdown",
   "metadata": {},
   "source": [
    "Then, we need to find the parameter values needed to calculate the pdf. The parameters are the:\n",
    "\n",
    "- mean\n",
    "- covaraince\n",
    "$$x|y = 0 \\thicksim N(\\mu_0,\\Sigma)$$  \n",
    "\n",
    "$$x|y = 1 \\thicksim N(\\mu_1,\\Sigma)$$"
   ]
  },
  {
   "cell_type": "code",
   "execution_count": 103,
   "metadata": {
    "execution": {
     "iopub.execute_input": "2023-02-17T10:03:13.595946Z",
     "iopub.status.busy": "2023-02-17T10:03:13.595499Z",
     "iopub.status.idle": "2023-02-17T10:03:13.606510Z",
     "shell.execute_reply": "2023-02-17T10:03:13.605164Z",
     "shell.execute_reply.started": "2023-02-17T10:03:13.595908Z"
    }
   },
   "outputs": [],
   "source": [
    "# we calculate the mean values\n",
    "mean = data.groupby('species').mean()\n",
    "\n",
    "# we calculate the variance values\n",
    "covariance = data.groupby('species').cov()\n"
   ]
  },
  {
   "cell_type": "code",
   "execution_count": 104,
   "metadata": {},
   "outputs": [],
   "source": [
    "def predict(x_test, priors, mean , cov):\n",
    "    \n",
    "    labels = mean.shape[0]\n",
    "    results = np.zeros((x_test.shape[0], labels))\n",
    "    for label in range(labels):\n",
    "        pdf = multivariate_normal(mean = mean.loc[label], cov = cov.loc[label])\n",
    "        \n",
    "        for i, data in enumerate(x_test):\n",
    "            results[i, label] = np.log(priors[label]) + pdf.logpdf(data)\n",
    "            \n",
    "    predictions = np.argmax(results, axis=1)\n",
    "    return predictions\n",
    "                "
   ]
  },
  {
   "cell_type": "markdown",
   "metadata": {},
   "source": [
    "## Evaluation"
   ]
  },
  {
   "cell_type": "code",
   "execution_count": 105,
   "metadata": {
    "scrolled": true
   },
   "outputs": [],
   "source": [
    "x_test = test_data[['sepal_length', 'sepal_width', 'petal_length', 'petal_width']]\n",
    "y_test = test_data['species']"
   ]
  },
  {
   "cell_type": "code",
   "execution_count": 106,
   "metadata": {},
   "outputs": [],
   "source": [
    "x_test = np.array(x_test)"
   ]
  },
  {
   "cell_type": "code",
   "execution_count": 107,
   "metadata": {
    "scrolled": false
   },
   "outputs": [],
   "source": [
    "preds = predict(x_test,priors,mean,covariance)"
   ]
  },
  {
   "cell_type": "code",
   "execution_count": 108,
   "metadata": {},
   "outputs": [
    {
     "name": "stdout",
     "output_type": "stream",
     "text": [
      "96.66666666666667\n"
     ]
    }
   ],
   "source": [
    "print(accuracy_score(y_test,preds) * 100)"
   ]
  }
 ],
 "metadata": {
  "kernelspec": {
   "display_name": "Python 3 (ipykernel)",
   "language": "python",
   "name": "python3"
  },
  "language_info": {
   "codemirror_mode": {
    "name": "ipython",
    "version": 3
   },
   "file_extension": ".py",
   "mimetype": "text/x-python",
   "name": "python",
   "nbconvert_exporter": "python",
   "pygments_lexer": "ipython3",
   "version": "3.10.7"
  }
 },
 "nbformat": 4,
 "nbformat_minor": 4
}
