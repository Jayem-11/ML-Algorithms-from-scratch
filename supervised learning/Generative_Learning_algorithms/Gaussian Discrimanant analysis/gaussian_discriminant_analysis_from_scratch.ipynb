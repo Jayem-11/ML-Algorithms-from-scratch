{
 "cells": [
  {
   "cell_type": "markdown",
   "id": "4ebfc9c8",
   "metadata": {},
   "source": [
    "# Generative Learning Algorithms"
   ]
  },
  {
   "cell_type": "markdown",
   "id": "91a36544",
   "metadata": {},
   "source": [
    "Supervised learning algorithms can be classified into two categories:  \n",
    "- Discriminative learning algorithms\n",
    "- Generative learning algorithms\n",
    "\n",
    " #### Discriminative Leanining Algorithms\n",
    " \n",
    " These algorithms try to learn the mapping between the input space i.e. $X$ to the labels $y$.  \n",
    " Examples include:\n",
    " - Linear regression\n",
    " - Logistic regression\n",
    " \n",
    " #### Generative Learning algorithms\n",
    "  These algorithms try to model x given y. i.e. They try to model $p(x|y)$ and $p(y)$\n",
    "  Examples include:\n",
    "  - Gaussian Discriminant analysis\n",
    "  - Naive Bayes\n",
    "  "
   ]
  },
  {
   "cell_type": "markdown",
   "id": "5c4bb351",
   "metadata": {},
   "source": [
    "## A. Gaussian Discriminant Analysis "
   ]
  },
  {
   "cell_type": "markdown",
   "id": "a4f9a203",
   "metadata": {},
   "source": [
    "Here, the $X's$ are continuos and the $y's$ discrete. We make an assumption that $p(x|y)$,the $X's$ follow a **multivariate normal distribution.**\n",
    "\n",
    "\n",
    "### Multivariate Normal/Gaussian Distribution\n",
    "\n",
    "It is abbreviated as $$X \\thicksim N(\\mu,\\Sigma)$$\n",
    "\n",
    "where the parameters are: \n",
    "- **mean vector** $ \\mu \\in \\mathbb{R}^n $ \n",
    "- **covariance matrix** $ \\Sigma \\in \\mathbb{R}^{nxn} $\n",
    "\n",
    "The density function of the distribution (PDF) is given by:\n",
    "$$ \n",
    "p(x;\\mu,\\Sigma) = \\frac{1}{(2\\pi)^{n/2}|\\Sigma|^{1/2}}exp\\Bigg(-\\frac{1}{2}\\big(x - \\mu\\big)^T\\Sigma^{-1}\\big(x - \\mu\\big)\\Bigg)\n",
    "$$\n",
    "\n",
    "The mean vector and covariance matrix determines the shape of the PDF.\n",
    "\n",
    "### Model\n",
    "\n",
    "The model is: \n",
    "\n",
    "\n",
    "$$y \\thicksim Bernoulli(\\phi)$$  \n",
    "\n",
    "$$x|y = 0 \\thicksim N(\\mu_0,\\Sigma)$$  \n",
    "\n",
    "$$x|y = 1 \\thicksim N(\\mu_1,\\Sigma)$$  \n",
    "\n",
    "The distribution can be written out as follows:  \n",
    "\n",
    "$$p(y) = \\phi^y(1 - \\phi)^{1-y} $$ \n",
    "\n",
    "$$\n",
    "p(x | y=0) = \\frac{1}{(2\\pi)^{d/2}|\\Sigma|^{1/2}}exp\\Bigg(-\\frac{1}{2}\\big(x - \\mu_0\\big)^T\\Sigma_k^{-1}\\big(x - \\mu_0\\big)\\Bigg)\n",
    "$$  \n",
    "\n",
    "$$\n",
    "p(x | y=1) = \\frac{1}{(2\\pi)^{d/2}|\\Sigma|^{1/2}}exp\\Bigg(-\\frac{1}{2}\\big(x - \\mu_1\\big)^T\\Sigma_k^{-1}\\big(x - \\mu_1\\big)\\Bigg)\n",
    "$$\n",
    "\n",
    "\n",
    "Therefore, our parameters are: $ \\phi, \\Sigma, \\mu_0, \\mu_1$. To get the value of these parameters we maximixe the log-likelihood.  \n",
    "  \n",
    "**log-likelihood**\n",
    "\n",
    "$$\\ell(\\theta) = log \\prod^n_{i=1} p(x^{(i)},y^{(i)};\\phi, \\Sigma, \\mu_0, \\mu_1)$$\n",
    "$$ = log \\prod^n_{i=1} p(x^{(i)}|y^{(i)};\\phi, \\mu_0, \\mu_1, \\Sigma)p(y^{(i)};\\phi) $$  \n",
    "\n",
    "By maximixing the  log-likelihoood we get the following maximun likelihood estimates of the parameters:\n",
    "\n",
    "$$ \\phi = {1\\over n} \\sum^n_{i = 1} 1\\{y^{(i)} = 1 \\}$$  \n",
    "\n",
    "$$ \\mu_0 = \\frac{ \\sum^n_{i = 1} 1\\{y^{(i)} = 0 \\} x^{(i)} } {\\sum^n_{i = 1} 1\\{y^{(i)} = 0 \\}}$$  \n",
    "\n",
    "$$ \\mu_1 = \\frac{ \\sum^n_{i = 1} 1\\{y^{(i)} = 1 \\} x^{(i)} } {\\sum^n_{i = 1} 1\\{y^{(i)} = 1 \\}}$$\n",
    "\n",
    "$$ \\Sigma = {1 \\over n} \\sum^n_{i = 1} (x^{(i)} - \\mu_{y^{(i)}})( x^{(i)} - \\mu_{y^{(i)}})^T $$"
   ]
  },
  {
   "cell_type": "code",
   "execution_count": null,
   "id": "beee339b",
   "metadata": {},
   "outputs": [],
   "source": []
  }
 ],
 "metadata": {
  "kernelspec": {
   "display_name": "Python 3 (ipykernel)",
   "language": "python",
   "name": "python3"
  },
  "language_info": {
   "codemirror_mode": {
    "name": "ipython",
    "version": 3
   },
   "file_extension": ".py",
   "mimetype": "text/x-python",
   "name": "python",
   "nbconvert_exporter": "python",
   "pygments_lexer": "ipython3",
   "version": "3.10.7"
  }
 },
 "nbformat": 4,
 "nbformat_minor": 5
}
