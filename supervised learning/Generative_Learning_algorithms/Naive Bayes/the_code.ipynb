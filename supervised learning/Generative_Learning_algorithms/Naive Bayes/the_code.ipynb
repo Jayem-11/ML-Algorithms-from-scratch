{
 "cells": [
  {
   "cell_type": "markdown",
   "id": "777f8967",
   "metadata": {},
   "source": [
    "## 1. Imports"
   ]
  },
  {
   "cell_type": "code",
   "execution_count": 1,
   "id": "f1a5282f",
   "metadata": {},
   "outputs": [],
   "source": [
    "import pandas as pd\n",
    "import numpy as np\n",
    "from sklearn.feature_extraction.text import CountVectorizer\n",
    "from sklearn.model_selection import train_test_split"
   ]
  },
  {
   "cell_type": "markdown",
   "id": "91305435",
   "metadata": {},
   "source": [
    "## 2. Data"
   ]
  },
  {
   "cell_type": "markdown",
   "id": "4ff36300",
   "metadata": {},
   "source": [
    "### Getting the data"
   ]
  },
  {
   "cell_type": "code",
   "execution_count": 2,
   "id": "a8960d5b",
   "metadata": {},
   "outputs": [],
   "source": [
    "with open('amazon_cells_labelled.txt','r') as file:\n",
    "    labels = []\n",
    "    sentences = []\n",
    "    \n",
    "    for line in file.readlines():\n",
    "        sample = line.strip().split(\"\\t\")\n",
    "        sentences.append(sample[0])\n",
    "        labels.append(sample[1])"
   ]
  },
  {
   "cell_type": "markdown",
   "id": "fd008484",
   "metadata": {},
   "source": [
    "###  Vectorization"
   ]
  },
  {
   "cell_type": "code",
   "execution_count": 3,
   "id": "5e4fe16c",
   "metadata": {},
   "outputs": [],
   "source": [
    "vectorizer = CountVectorizer(analyzer=\"word\", lowercase=True, stop_words=\"english\", max_features=4500)\n",
    "data = vectorizer.fit_transform(sentences).toarray()"
   ]
  },
  {
   "cell_type": "markdown",
   "id": "c31f2c57",
   "metadata": {},
   "source": [
    "### Split the data"
   ]
  },
  {
   "cell_type": "code",
   "execution_count": 4,
   "id": "30f709d2",
   "metadata": {},
   "outputs": [],
   "source": [
    "x_train, x_test, y_train, y_test = train_test_split(data, np.array(labels))"
   ]
  },
  {
   "cell_type": "markdown",
   "id": "600577c6",
   "metadata": {},
   "source": [
    "## 3. Model"
   ]
  },
  {
   "cell_type": "code",
   "execution_count": 8,
   "id": "4223782b",
   "metadata": {},
   "outputs": [],
   "source": [
    "w = x_train[1] == 1"
   ]
  },
  {
   "cell_type": "code",
   "execution_count": 9,
   "id": "4624109d",
   "metadata": {},
   "outputs": [
    {
     "data": {
      "text/plain": [
       "array([False, False, False, ..., False, False, False])"
      ]
     },
     "execution_count": 9,
     "metadata": {},
     "output_type": "execute_result"
    }
   ],
   "source": [
    "w"
   ]
  },
  {
   "cell_type": "code",
   "execution_count": 10,
   "id": "27381244",
   "metadata": {},
   "outputs": [
    {
     "data": {
      "text/plain": [
       "array([[0, 0, 0, ..., 0, 0, 0],\n",
       "       [0, 0, 0, ..., 0, 0, 0],\n",
       "       [0, 0, 0, ..., 0, 0, 0],\n",
       "       ...,\n",
       "       [0, 0, 0, ..., 0, 0, 0],\n",
       "       [0, 0, 0, ..., 0, 0, 0],\n",
       "       [0, 0, 0, ..., 0, 0, 0]], dtype=int64)"
      ]
     },
     "execution_count": 10,
     "metadata": {},
     "output_type": "execute_result"
    }
   ],
   "source": [
    "x_train"
   ]
  },
  {
   "cell_type": "code",
   "execution_count": 35,
   "id": "ef3d7a8e",
   "metadata": {},
   "outputs": [],
   "source": [
    "label = len(np.unique(y_train.reshape(-1)))"
   ]
  },
  {
   "cell_type": "code",
   "execution_count": 36,
   "id": "3ec2f181",
   "metadata": {},
   "outputs": [
    {
     "data": {
      "text/plain": [
       "2"
      ]
     },
     "execution_count": 36,
     "metadata": {},
     "output_type": "execute_result"
    }
   ],
   "source": [
    "label"
   ]
  },
  {
   "cell_type": "code",
   "execution_count": 38,
   "id": "123e52a8",
   "metadata": {
    "scrolled": true
   },
   "outputs": [
    {
     "name": "stderr",
     "output_type": "stream",
     "text": [
      "C:\\Users\\user\\AppData\\Local\\Temp\\ipykernel_8932\\3452878138.py:2: FutureWarning: elementwise comparison failed; returning scalar instead, but in the future will perform elementwise comparison\n",
      "  current_label_data = x_train[y_train == label]\n"
     ]
    }
   ],
   "source": [
    "for label in range(label):\n",
    "    current_label_data = x_train[y_train == label]\n",
    "\n"
   ]
  },
  {
   "cell_type": "code",
   "execution_count": 39,
   "id": "df3b3ca8",
   "metadata": {},
   "outputs": [
    {
     "data": {
      "text/plain": [
       "array([], shape=(0, 750, 1642), dtype=int64)"
      ]
     },
     "execution_count": 39,
     "metadata": {},
     "output_type": "execute_result"
    }
   ],
   "source": [
    "current_label_data"
   ]
  },
  {
   "cell_type": "code",
   "execution_count": 40,
   "id": "47e4826c",
   "metadata": {},
   "outputs": [
    {
     "data": {
      "text/plain": [
       "0"
      ]
     },
     "execution_count": 40,
     "metadata": {},
     "output_type": "execute_result"
    }
   ],
   "source": [
    "current_label_data.shape[0]"
   ]
  },
  {
   "cell_type": "code",
   "execution_count": null,
   "id": "a1c727ab",
   "metadata": {},
   "outputs": [],
   "source": []
  }
 ],
 "metadata": {
  "kernelspec": {
   "display_name": "Python 3 (ipykernel)",
   "language": "python",
   "name": "python3"
  },
  "language_info": {
   "codemirror_mode": {
    "name": "ipython",
    "version": 3
   },
   "file_extension": ".py",
   "mimetype": "text/x-python",
   "name": "python",
   "nbconvert_exporter": "python",
   "pygments_lexer": "ipython3",
   "version": "3.10.7"
  }
 },
 "nbformat": 4,
 "nbformat_minor": 5
}
